{
 "cells": [
  {
   "cell_type": "code",
   "execution_count": 51,
   "id": "7f0e1b4e-f184-490d-8ad4-019e7526dccd",
   "metadata": {},
   "outputs": [],
   "source": [
    "import pandas as pd\n",
    "import numpy as np\n",
    "import QuantLib as ql\n",
    "import matplotlib.pyplot as plt\n",
    "\n",
    "%config InlineBackend.figure_format='retina'"
   ]
  },
  {
   "cell_type": "markdown",
   "id": "89bcfed1-51a3-4703-a2fe-92509350972a",
   "metadata": {},
   "source": [
    "# Swaption pricing\n",
    "Below we illustrate 4 types of swaption pricing:\n",
    "- using a scalar implied vol,\n",
    "- using a flat volatility surface,\n",
    "- using (non-flat) ATM volatility surface,\n",
    "- using full (expiry x tenor x strike) volcube.\n",
    "\n",
    "This is shown in terms of both (shifted) lognormal and normal model scopes."
   ]
  },
  {
   "cell_type": "markdown",
   "id": "e9458825-7707-4cce-bd81-36e42b0867ff",
   "metadata": {},
   "source": [
    "# Initial setup"
   ]
  },
  {
   "cell_type": "code",
   "execution_count": 194,
   "id": "a5fe894c-08fb-4ab2-b6d6-7499f5b8429c",
   "metadata": {},
   "outputs": [],
   "source": [
    "today = ql.Date(7, 10, 2022)\n",
    "ql.Settings.instance().evaluationDate = today\n",
    "\n",
    "\n",
    "forecast_curve = ql.YieldTermStructureHandle(ql.FlatForward(today, ql.QuoteHandle(ql.SimpleQuote(0.05)), ql.Actual360()))\n",
    "discount_curve = ql.YieldTermStructureHandle(ql.FlatForward(today, ql.QuoteHandle(ql.SimpleQuote(0.05)), ql.Actual360()))"
   ]
  },
  {
   "cell_type": "markdown",
   "id": "f559c75b-392b-4085-b849-edbfb40de172",
   "metadata": {},
   "source": [
    "# Definition of a swaption"
   ]
  },
  {
   "cell_type": "code",
   "execution_count": 365,
   "id": "9a14612b-5339-4544-a136-7fd9a13fd9da",
   "metadata": {},
   "outputs": [],
   "source": [
    "calendar     = ql.TARGET()\n",
    "swap         = ql.MakeVanillaSwap(ql.Period('5y'), ql.Euribor6M(forecast_curve), 0.045, ql.Period('5y'), discountingTermStructure = discount_curve) # payer swap\n",
    "exerciseDate = calendar.advance(today, ql.Period('5y'))\n",
    "swaption     = ql.Swaption(swap, ql.EuropeanExercise(exerciseDate))"
   ]
  },
  {
   "cell_type": "markdown",
   "id": "e4504406-18d1-4885-8b71-8839ab00caa3",
   "metadata": {},
   "source": [
    "# Various volatility structures"
   ]
  },
  {
   "cell_type": "markdown",
   "id": "dd3f476d-1f75-4150-9aa6-48236c4e9737",
   "metadata": {},
   "source": [
    "## Scalar implied volatility"
   ]
  },
  {
   "cell_type": "markdown",
   "id": "66a15fb5-b452-45a5-9ba7-193af7708e17",
   "metadata": {},
   "source": [
    "### (Shifted) lognormal model\n",
    "When we use shifted lognormal model with a scalar volatility, we define the shifted lognormal property in the pricing engine: `ql.BlackSwaptionEngine`, which has `shift` as its 4th parameter."
   ]
  },
  {
   "cell_type": "code",
   "execution_count": 366,
   "id": "efa95478-c31a-4c22-8c01-ca8ead59b560",
   "metadata": {},
   "outputs": [
    {
     "name": "stdout",
     "output_type": "stream",
     "text": [
      "Swaption price in shifted lognormal model (shift=0.02) is 0.05332196\n"
     ]
    }
   ],
   "source": [
    "shift = 0.02\n",
    "volatitility = ql.QuoteHandle(ql.SimpleQuote(0.2))\n",
    "\n",
    "swaption.setPricingEngine(ql.BlackSwaptionEngine(discount_curve, volatitility, ql.SimpleDayCounter(), shift))\n",
    "npv = swaption.NPV()\n",
    "\n",
    "print(f'Swaption price in shifted lognormal model (shift={shift:.2f}) is {npv:.8f}')"
   ]
  },
  {
   "cell_type": "markdown",
   "id": "f167a211-3e10-4db8-b760-b2cecc598ea0",
   "metadata": {},
   "source": [
    "### Bachelier (normal) model"
   ]
  },
  {
   "cell_type": "code",
   "execution_count": 367,
   "id": "a94828eb-2683-4b24-ac61-253a9a855885",
   "metadata": {},
   "outputs": [
    {
     "name": "stdout",
     "output_type": "stream",
     "text": [
      "Swaption price in Bachelier (normal) model is 0.05332226\n"
     ]
    }
   ],
   "source": [
    "volatitility = ql.QuoteHandle(ql.SimpleQuote(0.013577))\n",
    "\n",
    "swaption.setPricingEngine(ql.BachelierSwaptionEngine(discount_curve, volatitility))\n",
    "npv = swaption.NPV()\n",
    "\n",
    "print(f'Swaption price in Bachelier (normal) model is {npv:.8f}')"
   ]
  },
  {
   "cell_type": "markdown",
   "id": "7dc3b343-835d-4021-a8a0-368716e610a1",
   "metadata": {},
   "source": [
    "## Flat volsurface\n",
    "For a flat volsurfraced-based valuation, the key object is `ql.ConstantSwaptionVolatility` which defines the flat volsurface.  \n",
    "The model choice must be defined both in:\n",
    "- `ql.ConstantSwaptionVolatility` object (the type of a volatility + potentially a shift), and as\n",
    "- pricing engine (`ql.BlackSwaptionEngine`, or `ql.BachelierSwaptionEngine`).\n",
    "\n",
    "Note that when working with volsurface(s), its handle (`ql.SwaptionVolatilityStructureHandle`) needs to be used in the pricing engine."
   ]
  },
  {
   "cell_type": "markdown",
   "id": "2043960f-9577-43d1-9553-fd1a910c507f",
   "metadata": {},
   "source": [
    "### (Shifted) lognormal model\n",
    "The shift is only part of flat volsurface `ql.ConstantSwaptionVolatility`. Note that this is different from the scalar case, where the shift was part of the engine. In the flat-volsurface case the engine inherits the shfit from the flat volsurface shift."
   ]
  },
  {
   "cell_type": "code",
   "execution_count": 317,
   "id": "d59f04d7-fdad-4e88-a908-a58dd177e47e",
   "metadata": {},
   "outputs": [
    {
     "name": "stdout",
     "output_type": "stream",
     "text": [
      "Swaption price in shifted lognormal model (shift=0.02) is 0.05420326\n"
     ]
    }
   ],
   "source": [
    "model = ql.ShiftedLognormal\n",
    "shift = 0.02\n",
    "volatility = ql.QuoteHandle(ql.SimpleQuote(0.3))\n",
    "\n",
    "constantSwaptionVol = ql.ConstantSwaptionVolatility(0, ql.TARGET(), ql.ModifiedFollowing, volatility, ql.SimpleDayCounter(), model, shift)\n",
    "constantSwaptionVol = ql.SwaptionVolatilityStructureHandle(constantSwaptionVol)\n",
    "\n",
    "swaption.setPricingEngine(ql.BlackSwaptionEngine(discount_curve, constantSwaptionVol))\n",
    "npv = swaption.NPV()\n",
    "\n",
    "print(f'Swaption price in shifted lognormal model (shift={shift:.2f}) is {npv:.8f}')"
   ]
  },
  {
   "cell_type": "markdown",
   "id": "e07d961d-a8a8-40b0-965b-6b5e23af2104",
   "metadata": {},
   "source": [
    "### Bachelier (normal) model"
   ]
  },
  {
   "cell_type": "code",
   "execution_count": 259,
   "id": "dcda551a-bb62-4327-9144-9533981dbb5e",
   "metadata": {},
   "outputs": [
    {
     "name": "stdout",
     "output_type": "stream",
     "text": [
      "Swaption price in Bachelier (normal) model is 0.05331147\n"
     ]
    }
   ],
   "source": [
    "model = ql.Normal\n",
    "volatility = ql.QuoteHandle(ql.SimpleQuote(0.013577))\n",
    "\n",
    "constantSwaptionVol = ql.ConstantSwaptionVolatility(0, ql.TARGET(), ql.ModifiedFollowing, volatility, ql.SimpleDayCounter(), model)\n",
    "constantSwaptionVol = ql.SwaptionVolatilityStructureHandle(constantSwaptionVol)\n",
    "\n",
    "swaption.setPricingEngine(ql.BachelierSwaptionEngine(discount_curve, constantSwaptionVol))\n",
    "npv = swaption.NPV()\n",
    "\n",
    "print(f'Swaption price in Bachelier (normal) model is {npv:.8f}')"
   ]
  },
  {
   "cell_type": "markdown",
   "id": "88bd047f-fa8c-4608-8dcf-788340804b70",
   "metadata": {},
   "source": [
    "## Volsurface (expiry X tenor)\n",
    "In this case volatilitity surface is not flat and represented by a (expiry x tenor) matrix. The 'strike' dimension doesn't exist.\n",
    "\n",
    "- key volsurface object is `ql.SwaptionVolatilityMatrix` which contains the matrix of (expiry x tenor) quotes plus information about model used."
   ]
  },
  {
   "cell_type": "markdown",
   "id": "5b93d948-0198-4473-a1f1-558b3064151d",
   "metadata": {},
   "source": [
    "### (Shifted) lognormal model\n",
    "When shifted lognormal model is to be used, the shifted lognormal property needs to be specified in `ql.SwaptionVolatilityMatrix` (and pricing engine, as always).  \n",
    "Matrix of shifts also needs to be passed into `ql.SwaptionVolatilityMatrix`. If not passed, the model will assume zero shift, i.e. a pure lognormal model."
   ]
  },
  {
   "cell_type": "code",
   "execution_count": 369,
   "id": "bc2870cd-e411-4094-9b1d-7ee6a41069b6",
   "metadata": {},
   "outputs": [
    {
     "name": "stdout",
     "output_type": "stream",
     "text": [
      "Swaption price in shifted lognormal model is 0.05332226. Shift used has been taken from the shift matrix.\n"
     ]
    }
   ],
   "source": [
    "expiries  = ['1M', '2M', '3M', '6M', '9M', '1Y', '18M', '2Y', '3Y', '4Y', '5Y', '7Y','10Y', '15Y', '20Y', '25Y', '30Y']\n",
    "tenors    = ['1Y', '2Y', '3Y', '4Y', '5Y', '6Y', '7Y', '8Y', '9Y', '10Y', '15Y', '20Y', '25Y', '30Y']\n",
    "\n",
    "# volsurface in QuantLib is understood as (expiry x tenor) surface\n",
    "vols = [\n",
    "    [8.6, 12.8, 19.5, 26.9, 32.7, 36.1, 38.7, 40.9, 42.7, 44.3, 48.8, 50.4, 50.8, 50.4],\n",
    "    [9.2, 13.4, 19.7, 26.4, 31.9, 35.2, 38.3, 40.2, 41.9, 43.1, 47.8, 49.9, 50.7, 50.3],\n",
    "    [11.2, 15.3, 21.0, 27.6, 32.7, 35.3, 38.4, 40.8, 42.6, 44.5, 48.6, 50.5, 50.9, 51.0],\n",
    "    [12.9, 17.1, 22.6, 28.8, 33.5, 36.0, 38.8, 41.0, 43.0, 44.6, 48.7, 50.6, 51.1, 51.0],\n",
    "    [14.6, 18.7, 24.6, 30.1, 34.2, 36.9, 39.3, 41.3, 43.2, 44.9, 48.9, 51.0, 51.3, 51.5],\n",
    "    [16.5, 20.9, 26.3, 31.3, 35.0, 37.6, 40.0, 42.0, 43.7, 45.3, 48.8, 50.9, 51.4, 51.7],\n",
    "    [20.9, 25.3, 30.0, 34.0, 37.0, 39.5, 41.9, 43.4, 45.0, 46.4, 49.3, 51.0, 51.3, 51.9],\n",
    "    [25.1, 28.9, 33.2, 36.2, 39.2, 41.2, 43.2, 44.7, 46.0, 47.3, 49.6, 51.0, 51.3, 51.6],\n",
    "    [34.0, 36.6, 39.2, 41.1, 43.2, 44.5, 46.1, 47.2, 48.0, 49.0, 50.3, 51.3, 51.3, 51.2],\n",
    "    [40.3, 41.8, 43.6, 44.9, 46.1, 47.1, 48.2, 49.2, 49.9, 50.5, 51.2, 51.3, 50.9, 50.7],\n",
    "    [44.0, 44.8, 46.0, 47.1, 20, 49.1, 49.9, 50.7, 51.4, 51.9, 51.6, 51.4, 50.6, 50.2],\n",
    "    [49.6, 49.7, 50.4, 51.2, 51.8, 52.2, 52.6, 52.9, 53.3, 53.8, 52.6, 51.7, 50.4, 49.6],\n",
    "    [53.9, 53.7, 54.0, 54.2, 54.4, 54.5, 54.5, 54.4, 54.4, 54.9, 53.1, 51.8, 50.1, 49.1],\n",
    "    [54.0, 53.7, 53.8, 53.7, 53.5, 53.6, 53.5, 53.3, 53.5, 53.7, 51.4, 49.8, 47.9, 46.6],\n",
    "    [52.8, 52.4, 52.6, 52.3, 52.2, 52.3, 52.0, 51.9, 51.8, 51.8, 49.5, 47.4, 45.4, 43.8],\n",
    "    [51.4, 51.2, 51.3, 51.0, 50.8, 50.7, 50.3, 49.9, 49.8, 49.7, 47.6, 45.3, 43.1, 41.4],\n",
    "    [49.6, 49.6, 49.7, 49.5, 49.5, 49.2, 48.6, 47.9, 47.4, 47.1, 45.1, 42.9, 40.8, 39.2]\n",
    "]\n",
    "\n",
    "# build 'shifts' matrix with the same dimension as the volsurface; this represents a shift used for each quote in the volsurface. We use the same shift for each quote\n",
    "shifts      = ql.Matrix(np.full_like(vols, 0.02).tolist())\n",
    "\n",
    "expiries    = [ql.Period(x) for x in expiries]\n",
    "tenors      = [ql.Period(x) for x in tenors]\n",
    "vols        = ql.Matrix((np.array(vols)/100).tolist()) # volsurface needs to be a matrix\n",
    "\n",
    "volsurface = ql.SwaptionVolatilityMatrix(calendar, ql.ModifiedFollowing, expiries, tenors, vols, ql.SimpleDayCounter(), False, ql.ShiftedLognormal, shifts)\n",
    "volsurface = ql.SwaptionVolatilityStructureHandle(volsurface)\n",
    "\n",
    "swaption.setPricingEngine(ql.BlackSwaptionEngine(discount_curve, volsurface))\n",
    "swaption.NPV()\n",
    "\n",
    "volsurface_ATM_lognormal = volsurface # store the vols as ATM vols for use in other example\n",
    "\n",
    "print(f'Swaption price in shifted lognormal model is {npv:.8f}. Shift used has been taken from the shift matrix.')"
   ]
  },
  {
   "cell_type": "markdown",
   "id": "38a1a174-e509-4de3-a9a1-213eec62b15d",
   "metadata": {},
   "source": [
    "### Bachelier (normal) model\n",
    "The inputs are simpler than in the lognormal model above because shift doesn't need to be passed. We only need to specify a `ql.Normal` model in `ql.SwaptionVolatilityMatrix` and use `ql.BachelierSwaptionEngine` for pricing."
   ]
  },
  {
   "cell_type": "code",
   "execution_count": 371,
   "id": "302c8787-7913-4224-a214-7aa256411e9c",
   "metadata": {},
   "outputs": [
    {
     "name": "stdout",
     "output_type": "stream",
     "text": [
      "Swaption price in Bachelier (normal) model is 0.05332226\n"
     ]
    }
   ],
   "source": [
    "expiries  = ['1M', '2M', '3M', '6M', '9M', '1Y', '18M', '2Y', '3Y', '4Y', '5Y', '7Y','10Y', '15Y', '20Y', '25Y', '30Y']\n",
    "tenors    = ['1Y', '2Y', '3Y', '4Y', '5Y', '6Y', '7Y', '8Y', '9Y', '10Y', '15Y', '20Y', '25Y', '30Y']\n",
    "\n",
    "# volsurface in QuantLib is understood as (expiry x tenor) surface\n",
    "vols = [\n",
    "    [8.6, 12.8, 19.5, 26.9, 32.7, 36.1, 38.7, 40.9, 42.7, 44.3, 48.8, 50.4, 50.8, 50.4],\n",
    "    [9.2, 13.4, 19.7, 26.4, 31.9, 35.2, 38.3, 40.2, 41.9, 43.1, 47.8, 49.9, 50.7, 50.3],\n",
    "    [11.2, 15.3, 21.0, 27.6, 32.7, 35.3, 38.4, 40.8, 42.6, 44.5, 48.6, 50.5, 50.9, 51.0],\n",
    "    [12.9, 17.1, 22.6, 28.8, 33.5, 36.0, 38.8, 41.0, 43.0, 44.6, 48.7, 50.6, 51.1, 51.0],\n",
    "    [14.6, 18.7, 24.6, 30.1, 34.2, 36.9, 39.3, 41.3, 43.2, 44.9, 48.9, 51.0, 51.3, 51.5],\n",
    "    [16.5, 20.9, 26.3, 31.3, 35.0, 37.6, 40.0, 42.0, 43.7, 45.3, 48.8, 50.9, 51.4, 51.7],\n",
    "    [20.9, 25.3, 30.0, 34.0, 37.0, 39.5, 41.9, 43.4, 45.0, 46.4, 49.3, 51.0, 51.3, 51.9],\n",
    "    [25.1, 28.9, 33.2, 36.2, 39.2, 41.2, 43.2, 44.7, 46.0, 47.3, 49.6, 51.0, 51.3, 51.6],\n",
    "    [34.0, 36.6, 39.2, 41.1, 43.2, 44.5, 46.1, 47.2, 48.0, 49.0, 50.3, 51.3, 51.3, 51.2],\n",
    "    [40.3, 41.8, 43.6, 44.9, 46.1, 47.1, 48.2, 49.2, 49.9, 50.5, 51.2, 51.3, 50.9, 50.7],\n",
    "    [44.0, 44.8, 46.0, 47.1, 135.77, 49.1, 49.9, 50.7, 51.4, 51.9, 51.6, 51.4, 50.6, 50.2],\n",
    "    [49.6, 49.7, 50.4, 51.2, 51.8, 52.2, 52.6, 52.9, 53.3, 53.8, 52.6, 51.7, 50.4, 49.6],\n",
    "    [53.9, 53.7, 54.0, 54.2, 54.4, 54.5, 54.5, 54.4, 54.4, 54.9, 53.1, 51.8, 50.1, 49.1],\n",
    "    [54.0, 53.7, 53.8, 53.7, 53.5, 53.6, 53.5, 53.3, 53.5, 53.7, 51.4, 49.8, 47.9, 46.6],\n",
    "    [52.8, 52.4, 52.6, 52.3, 52.2, 52.3, 52.0, 51.9, 51.8, 51.8, 49.5, 47.4, 45.4, 43.8],\n",
    "    [51.4, 51.2, 51.3, 51.0, 50.8, 50.7, 50.3, 49.9, 49.8, 49.7, 47.6, 45.3, 43.1, 41.4],\n",
    "    [49.6, 49.6, 49.7, 49.5, 49.5, 49.2, 48.6, 47.9, 47.4, 47.1, 45.1, 42.9, 40.8, 39.2]\n",
    "]\n",
    "\n",
    "expiries    = [ql.Period(x) for x in expiries]\n",
    "tenors      = [ql.Period(x) for x in tenors]\n",
    "vols        = ql.Matrix((np.array(vols)/10000).tolist()) # conver volsurface to a bp vol matrix\n",
    "\n",
    "volsurface = ql.SwaptionVolatilityMatrix(calendar, ql.ModifiedFollowing, expiries, tenors, vols, ql.SimpleDayCounter(), False, ql.Normal)\n",
    "volsurface = ql.SwaptionVolatilityStructureHandle(volsurface)\n",
    "\n",
    "swaption.setPricingEngine(ql.BachelierSwaptionEngine(discount_curve, volsurface))\n",
    "swaption.NPV()\n",
    "\n",
    "volsurface_ATM_normal = volsurface # store the vols as ATM vols for use in other example\n",
    "\n",
    "print(f'Swaption price in Bachelier (normal) model is {npv:.8f}')"
   ]
  },
  {
   "cell_type": "markdown",
   "id": "fb546682-e1a8-4087-af88-ec28d5c80d2f",
   "metadata": {},
   "source": [
    "## Volcube (expiry x tenor x strike)\n",
    "Volatility cube is the most complex volatility object for swaption pricing. Volatilities are linearly interpolated. The input is ATM vol matrix and then set of offsets that represent the volcube, taken relative to the ATM quotes.\n",
    "\n",
    "The type of vols used are inferred from the input ATM vol matrix (which has this info embedded).\n",
    "\n",
    "The key object is `ql.SwaptionVolCube2` which consumes:\n",
    "- matrix of ATM vols (`ql.SwaptionVolatilityMatrix`) wrapped in a `ql.SwaptionVolatilityStructureHandle` handle,\n",
    "- `strikeSpreads` : strike offsets from ATM for which we supply volatolities\n",
    "- `volSpreads`: volatility offsets form ATM vols. volATM+`volSpreads` give the desired volatility quote. \n",
    "- `swapIndexBase`: short swap index, needs both forecasting and discounting curve. This is to 'split' the volsurface into short tenors, and long tenors part\n",
    "- `shortSwapIndexBase`: swap index, needs both forecasting and discounting curve. This is to 'split' the volsurface into short tenors and long tenors part\n",
    "\n",
    "The 2nd and 3rd bullet point define how we represent the quotes. Clearly, the quotes are defined as 'offsets'. Let's do an example of how this offset works:\n",
    "Let's assume: $K_{\\text{ATM}} = \\text{ATM} = 0.05$ and $K_{\\text{ATM+1%}} = \\text{ATM} + 0.01 = 0.06$. Now consider the associated volatilities are $\\sigma_{K_{\\text{ATM}}} = 0.20$ and $\\sigma_{K_{\\text{ATM+1%}}} = 0.25$. To add this non-ATM quote in the volcube, we would use (strikeSpread = 0.01, volSpread = 0.05) because the desired non-ATM strike is 1% offset from ATM, and the associated vol is 0.05 offset from the ATM vol.\n",
    "\n",
    "\n",
    "On the last two points, we recommend reading https://quant.stackexchange.com/questions/57639/quantlib-swaption-vol-cube . There, it is mentioned that for the very short swap tenors (usually <1Y), the underlying swap pays on the fixed leg typically more frequently (than annually), and for swap > shortSwapIndexBase (usuall >= 1Y) the swap pays less frequently, e.g. 1Y. We can thus fully specify this behaviour. The swap index definitions are according to https://quantlib-python-docs.readthedocs.io/en/latest/indexes.html?highlight=EuriborSwapIsdaFixA .\n",
    "\n",
    "The `volSpreads` containing the quotes ('offsets' from ATM vols) object is a 2d array that must be passed in as a list of lists (_not_ a Matrix!) of simple quote handles. Note that it is 2d array storing a 3d cube (expiry x tenor x strike). So the two first two dimensions are flattened (i.e. `volSpreads` is expirytenor x strike 2d array).\n",
    "It means that `volSpreads` stores the quotes as follows:  \n",
    "[[0.01, 0, 0.015], -> this is for (expiry1, tenor**1**, {3 strikes})  \n",
    " [0.02, 0, 0.025]] -> this is for (expiry1, tenor**2**, {3 strikes})  \n",
    " ...\n",
    " \n",
    " Useful reference is also https://programtalk.com/vs2/?source=python/7309/QuantLib-SWIG/Python/test/cms.py"
   ]
  },
  {
   "cell_type": "markdown",
   "id": "dd44be81-84d0-4be7-a85b-756c78dc3376",
   "metadata": {},
   "source": [
    "### (Shifted) lognormal model"
   ]
  },
  {
   "cell_type": "code",
   "execution_count": 373,
   "id": "e6e4d6c0-f94d-40e4-9793-114aa5d0851c",
   "metadata": {},
   "outputs": [
    {
     "name": "stdout",
     "output_type": "stream",
     "text": [
      "Swaption price in shifted lognormal model is 0.06559349. Shift used has been taken from the shift matrix.\n"
     ]
    }
   ],
   "source": [
    "expiries =  ['1y', '2y', '5y']\n",
    "tenors   =  ['5Y', '10Y']\n",
    "strikeSpreads = [ -0.01, 0, 0.01]\n",
    "volSpreads = [\n",
    "    [0.01, 0, 0.02],   # option 1Y, swap 5y\n",
    "    [0.03, 0, 0.03],   # option 1Y, swap 10y\n",
    "    [0.04, 0, 0.06],   # option 2Y, swap 5y\n",
    "    [0.07, 0, 0.08],   # option 2Y, swap 10y\n",
    "    [0.09, 0, 0.10],   # option 5Y, swap 5y\n",
    "    [0.11, 0, 0.12],   # option 5Y, swap 10y\n",
    "]\n",
    "\n",
    "expiries    = [ql.Period(x) for x in expiries]\n",
    "tenors      = [ql.Period(x) for x in tenors]\n",
    "volSpreads  = pd.DataFrame(volSpreads).applymap(lambda x: ql.QuoteHandle(ql.SimpleQuote(x))).values.tolist() # list of list of simple vol quotes\n",
    "\n",
    "# this defines the underlying swap in the surface, as per: https://quant.stackexchange.com/questions/57639/quantlib-swaption-vol-cube \n",
    "swapIndexBase      = ql.EuriborSwapIsdaFixA(ql.Period(1, ql.Years), forecast_curve, discount_curve)\n",
    "shortSwapIndexBase = ql.EuriborSwapIsdaFixA(ql.Period(1, ql.Years), forecast_curve, discount_curve)\n",
    "vegaWeightedSmileFit = False\n",
    "\n",
    "volCube = ql.SwaptionVolCube2(volsurface_ATM_lognormal,\n",
    "                              expiries,\n",
    "                              tenors,\n",
    "                              strikeSpreads,\n",
    "                              volSpreads,\n",
    "                              swapIndexBase,\n",
    "                              shortSwapIndexBase,\n",
    "                              vegaWeightedSmileFit)\n",
    "volCube = ql.SwaptionVolatilityStructureHandle(volCube)\n",
    "volCube.disableExtrapolation()\n",
    "\n",
    "\n",
    "swaption.setPricingEngine(ql.BlackSwaptionEngine(discount_curve, volCube))\n",
    "npv = swaption.NPV()\n",
    "\n",
    "print(f'Swaption price in shifted lognormal model is {npv:.8f}. Shift used has been taken from the shift matrix.')"
   ]
  },
  {
   "cell_type": "markdown",
   "id": "6cc30987-8b2b-40f0-aedc-0de0f39f9b6f",
   "metadata": {},
   "source": [
    "### Bachelier (normal) model"
   ]
  },
  {
   "cell_type": "code",
   "execution_count": 372,
   "id": "7aee2ed4-9487-4d7e-8449-b26c76492ddd",
   "metadata": {},
   "outputs": [
    {
     "data": {
      "text/plain": [
       "0.07189081869138095"
      ]
     },
     "execution_count": 372,
     "metadata": {},
     "output_type": "execute_result"
    }
   ],
   "source": [
    "expiries =  ['1y', '2y', '5y']\n",
    "tenors   =  ['5Y', '10Y']\n",
    "strikeSpreads = [ -0.01, 0, 0.01]\n",
    "volSpreads = [\n",
    "    [0.001, 0, 0.002],   # option 1Y, swap 5y\n",
    "    [0.003, 0, 0.003],   # option 1Y, swap 10y\n",
    "    [0.004, 0, 0.006],   # option 2Y, swap 5y\n",
    "    [0.007, 0, 0.008],   # option 2Y, swap 10y\n",
    "    [0.009, 0, 0.010],   # option 5Y, swap 5y\n",
    "    [0.011, 0, 0.012],   # option 5Y, swap 10y\n",
    "]\n",
    "\n",
    "expiries    = [ql.Period(x) for x in expiries]\n",
    "tenors      = [ql.Period(x) for x in tenors]\n",
    "volSpreads  = pd.DataFrame(volSpreads).applymap(lambda x: ql.QuoteHandle(ql.SimpleQuote(x))).values.tolist() # list of list of simple vol quotes\n",
    "\n",
    "# this defines the underlying swap in the surface, as per: https://quant.stackexchange.com/questions/57639/quantlib-swaption-vol-cube \n",
    "swapIndexBase      = ql.EuriborSwapIsdaFixA(ql.Period(1, ql.Years), forecast_curve, discount_curve)\n",
    "shortSwapIndexBase = ql.EuriborSwapIsdaFixA(ql.Period(1, ql.Years), forecast_curve, discount_curve)\n",
    "vegaWeightedSmileFit = False\n",
    "\n",
    "volCube = ql.SwaptionVolCube2(volsurface_ATM_normal,\n",
    "                              expiries,\n",
    "                              tenors,\n",
    "                              strikeSpreads,\n",
    "                              volSpreads,\n",
    "                              swapIndexBase,\n",
    "                              shortSwapIndexBase,\n",
    "                              vegaWeightedSmileFit)\n",
    "volCube = ql.SwaptionVolatilityStructureHandle(volCube)\n",
    "volCube.disableExtrapolation()\n",
    "\n",
    "\n",
    "swaption.setPricingEngine(ql.BachelierSwaptionEngine(discount_curve, volCube))\n",
    "npv = swaption.NPV()\n",
    "\n",
    "print(f'Swaption price in Bachelier (normal) model is {npv:.8f}')"
   ]
  }
 ],
 "metadata": {
  "kernelspec": {
   "display_name": "Python 3 (ipykernel)",
   "language": "python",
   "name": "python3"
  },
  "language_info": {
   "codemirror_mode": {
    "name": "ipython",
    "version": 3
   },
   "file_extension": ".py",
   "mimetype": "text/x-python",
   "name": "python",
   "nbconvert_exporter": "python",
   "pygments_lexer": "ipython3",
   "version": "3.9.13"
  },
  "toc-autonumbering": true
 },
 "nbformat": 4,
 "nbformat_minor": 5
}
