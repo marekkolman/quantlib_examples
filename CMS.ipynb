{
 "cells": [
  {
   "cell_type": "code",
   "execution_count": 1,
   "id": "122245bc-56c3-4f97-a7c7-2ec3948e419b",
   "metadata": {},
   "outputs": [],
   "source": [
    "import QuantLib as ql\n",
    "import numpy as np"
   ]
  },
  {
   "cell_type": "markdown",
   "id": "24fbe48d-01c7-414e-92de-33ac562b2ced",
   "metadata": {},
   "source": [
    "# Valuation of CMS coupon - Description\n",
    "\n",
    "This notebook shows valuation of a single CMS coupon using Linear Terminal Swap Rate model in `QuantLib`, based on gaussian model subject to a mean reversion.\n",
    "\n",
    "\n",
    "Scenario: today $t=0$ is `2022-10-20`. We value a coupon in a CMS swap. Details:\n",
    "- the CMS coupon is based on a 5Y-swap rate (swap 6M Euribor vs annual fixed rate) observed at $T=T_0=2Y$, i.e. `2024-10-20` at which the CMS coupon starts to accrue,\n",
    "- the accrual period ends by $T_p=3Y$, i.e. `2025-10-20`. On the same date the CMS coupon is paid out,\n",
    "- shifted lognormal model with $60\\%$ volatility (shift = $2\\%$) is used for the dynamics of forward swap rate in the convexity adjustment computation,\n",
    "- forecasting curve is flat $3\\%$, discounting curve is flat $2\\%$ (both continuously compounded)."
   ]
  },
  {
   "cell_type": "markdown",
   "id": "00aaefb5-8b81-49a7-88e9-b27bc7e96a6f",
   "metadata": {
    "tags": []
   },
   "source": [
    "# Mathematical background\n",
    "Fast forward, to discount a CMS coupon that is based on swap rate $S$ that is set at $T_0$ (the underlying swap terminates at $T_N$) and is paid at $T_p\\ge T_0$ ('CMS coupon'), we need to compute expectation of the swap rate under $T_p$-forward measure. That gives:\n",
    "\\begin{equation}\n",
    "{R_{\\text{CMS}}}(0) = {\\mathbb{E}^{{\\mathbb{Q}_{{T_p}}}}}\\left[ {S({T_0})} \\right] = \\frac{{A(0)}}{{B(0,{T_p})}}{\\mathbb{E}^{{\\mathbb{Q}_A}}}\\left[ {\\frac{{B({T_0},{T_p})}}{{A({T_0})}}S({T_0})} \\right],\n",
    "\\end{equation}\n",
    "where\n",
    "\\begin{equation}\n",
    "A(t) = \\sum\\limits_{i = 1}^N {{\\delta _i}B(t,{T_i})},\n",
    "\\end{equation}\n",
    "is the annuity of the 'underlying' swap.\n",
    "The computational complexity of CMS comes from the ${\\frac{{B({T_0},{T_p})}}{{A({T_0})}}}$ term in under the annuity-measure expectation. To deal with this term, typically some kind of approximation is used. Commonly, the approximation expresses this term as some affine function of $S$ (which is easy to deal with since $S$ is martingale under the annuity measure). This no different for the TSR approach where the term is approximated the following expression:\n",
    "\\begin{equation}\n",
    "\\frac{{B({T_0},{T_p})}}{{A({T_0})}} = a({T_p})S({T_0}) + b({T_p}),\n",
    "\\end{equation}\n",
    "where\n",
    "\\begin{eqnarray*}\n",
    "a({T_p}) &=& \\frac{{B(0,{T_p})(\\gamma  - G({T_p} - {T_0}))}}{{B(0,{T_N})G({T_N} - {T_0}) + A(0)S(0)\\gamma }}, \\\\\n",
    "G(\\tau ) &=& \\frac{{1 - {e^{ - \\varkappa \\tau }}}}{\\varkappa }\\\\\n",
    "\\gamma  &=& \\frac{{\\sum\\limits_{i = 1}^N {{\\delta _i}B(0,{T_i})G({T_i} - {T_0})} }}{{A(0)}}.\n",
    "\\end{eqnarray*}\n",
    "$\\varkappa$ is a mean-reversion parameter that needs to be supplied.\n",
    "\n",
    "The $t=0$ NPV of the CMS coupon in LinearTSR model is then \n",
    "\\begin{eqnarray*}\n",
    "V(0) &=& B(0,{T_p})(T_p - T_0){\\mathbb{E}^{{\\mathbb{Q}_{{T_p}}}}}\\left[ {S({T_0})} \\right]\\\\\n",
    "     &=& B(0,{T_p})(T_p - T_0){R_{\\text{CMS}}}(0)\\\\\n",
    "     &=& B(0,{T_p})(T_p - T_0)\\left( S(0) + \\frac{{A(0)}}{{B(0,{T_p})}}a({T_p}){\\mathbb{V}}^{\\mathbb{Q}_A} [S({T_0})] \\right).\n",
    "\\end{eqnarray*}\n",
    "where ${\\mathbb{V}}^{\\mathbb{Q}_A} [S({T_0})]$ is variance of $S(T_0)$ under the annuity measure $\\mathbb{Q}_A$ (nuder which $S$ is a martingale).  \n",
    "\n",
    "Under normal model\n",
    "\\begin{equation}\n",
    "{\\mathbb{V}}^{\\mathbb{Q}_A} [S({T_0})] = {\\sigma ^2}{T_0}.\n",
    "\\end{equation}\n",
    "Under ($s$-shifted) lognormal model\n",
    "\\begin{equation*}\n",
    "{\\mathbb{V}}^{\\mathbb{Q}_A} [S({T_0})] = {(S(0) + s)^2}({e^{{\\sigma ^2}{T_0}}} - 1).\n",
    "\\end{equation*}\n",
    "\n",
    "References:\n",
    "- Borst, C. 2014. _The efficient pricing of CMS and CMS spread derivatives_.  https://repository.tudelft.nl/islandora/object/uuid:71ac754b-23ad-4224-ad50-6828527d6d0d/datastream/OBJ/download,\n",
    "- Zeng, Y. 2015. _Convexity Adjustment: A User’s Guide_. https://www.quantsummaries.com/Zeng_convexity_adj.pdf\n",
    "- Piterbarg, V. 2010. _Interest Rate Modeling. Volume 3: Products and Risk Management_ (sectios 16.6., 16.3. and sections 16.3.2 and 16.6.4 in particular)"
   ]
  },
  {
   "cell_type": "markdown",
   "id": "f2ff3b7e-595b-44b4-bc2b-778068833a78",
   "metadata": {},
   "source": [
    "# Definitions"
   ]
  },
  {
   "cell_type": "code",
   "execution_count": 2,
   "id": "7a3dec3a-0e8b-446e-970a-8f4ab9e871ad",
   "metadata": {},
   "outputs": [],
   "source": [
    "today = ql.Date(20, 10, 2022)\n",
    "ql.Settings.instance().evaluationDate = today\n",
    "\n",
    "# interest-rate curves\n",
    "discount_curve = ql.YieldTermStructureHandle(ql.FlatForward(0, ql.TARGET(), ql.QuoteHandle(ql.SimpleQuote(0.02)), ql.Actual360()))\n",
    "forecast_curve = ql.YieldTermStructureHandle(ql.FlatForward(0, ql.TARGET(), ql.QuoteHandle(ql.SimpleQuote(0.03)), ql.Actual360()))"
   ]
  },
  {
   "cell_type": "code",
   "execution_count": 3,
   "id": "6708c7eb-1345-4960-9c72-5ec267c1563f",
   "metadata": {
    "tags": []
   },
   "outputs": [
    {
     "name": "stdout",
     "output_type": "stream",
     "text": [
      "Today is t = 2022-10-20. We are pricing a CMS coupon with the following details:\n",
      "The underlying 5Y swap starts on T0 = 2024-10-20 and ends by TN = 2029-10-20\n",
      "CMS accrual period is [T0 = 2024-10-20, Tp = 2025-10-20]. The CMS coupon is paid out by Tp = 2025-10-20\n"
     ]
    }
   ],
   "source": [
    "sigma = 0.60 # volatility of the forward swap rate in the shifted lognormal model\n",
    "shift = 0.02 # shift in the shifted lognormal model\n",
    "kappa = 0.05 # mean-reversion speed\n",
    "\n",
    "T0_period = ql.Period('2Y')\n",
    "Tp_period = ql.Period('3Y')\n",
    "\n",
    "T0 = today + T0_period # start date of CMS (and start day of the accrual period)\n",
    "Tp = today + Tp_period # end  date of CMS accrual period; pay date of CMS coupon\n",
    "\n",
    "fixingDays = 0\n",
    "\n",
    "swap_tenor = ql.Period('5Y') # this is TN-T0: tenor of the underlying swap on which CMS rate is paid\n",
    "TN =  T0 + swap_tenor # maturity if the underlying swap\n",
    "\n",
    "print(f'Today is t = {today.to_date()}. We are pricing a CMS coupon with the following details:')\n",
    "print(f'The underlying {swap_tenor} swap starts on T0 = {T0.to_date()} and ends by TN = {TN.to_date()}')\n",
    "print(f'CMS accrual period is [T0 = {T0.to_date()}, Tp = {Tp.to_date()}]. The CMS coupon is paid out by Tp = {Tp.to_date()}')"
   ]
  },
  {
   "cell_type": "markdown",
   "id": "27657c54-81ce-42c8-b83d-d89f8535299d",
   "metadata": {},
   "source": [
    "# CMS coupon valuation using `ql.LinearTsrPricer`"
   ]
  },
  {
   "cell_type": "code",
   "execution_count": 4,
   "id": "d8a2dc50-c4fa-4bce-8538-affdbabc729f",
   "metadata": {},
   "outputs": [
    {
     "name": "stdout",
     "output_type": "stream",
     "text": [
      "CMS rate R(0)=0.0358722347936681, which includes 0.005050186635780569 convexity adjustment\n",
      "The NPV of the CMS coupon is 0.033753182301828354 (via cms.price), or equivalently 0.033753182301828354 via NPV of leg with a single cash-flow\n"
     ]
    }
   ],
   "source": [
    "# use the ready-made index for EUR swaps, or build a custom IRS index below\n",
    "swapIndex  = ql.EuriborSwapIsdaFixA(swap_tenor,forecast_curve, discount_curve)\n",
    "#swapIndex = ql.SwapIndex('EUR', ql.Period(swap_tenor), fixingDays, ql.EURCurrency(), ql.TARGET(), ql.Period('1Y'), ql.ModifiedFollowing, ql.Actual360(), ql.Euribor6M(forecast_curve), discount_curve)\n",
    "\n",
    "nominal = 1.0\n",
    "cms            = ql.CmsCoupon(Tp, nominal, T0, Tp, fixingDays, swapIndex)\n",
    "swaptionVol    = ql.ConstantSwaptionVolatility(fixingDays, ql.TARGET(), ql.ModifiedFollowing, ql.QuoteHandle(ql.SimpleQuote(sigma)), ql.Actual365Fixed(), ql.ShiftedLognormal, shift)\n",
    "swvol_handle   = ql.SwaptionVolatilityStructureHandle(swaptionVol)\n",
    "mean_reversion = ql.QuoteHandle(ql.SimpleQuote(kappa))\n",
    "cms_pricer     = ql.LinearTsrPricer(swvol_handle, mean_reversion)\n",
    "cms.setPricer(cms_pricer)\n",
    "\n",
    "\n",
    "print(f'CMS rate R(0)={cms.rate()}, which includes {cms.convexityAdjustment()} convexity adjustment')\n",
    "print(f'The NPV of the CMS coupon is {cms.price(discount_curve)} (via cms.price), or equivalently {ql.CashFlows.npv(ql.Leg([cms]), discount_curve, True)} via NPV of leg with a single cash-flow')"
   ]
  },
  {
   "cell_type": "markdown",
   "id": "e5fdf729-9f0c-469f-926c-2f2774776575",
   "metadata": {},
   "source": [
    "# CMS coupon valuation using the formulas above"
   ]
  },
  {
   "cell_type": "code",
   "execution_count": 5,
   "id": "91fb8dc1-a152-4ee1-9ea1-d6e308af0eae",
   "metadata": {},
   "outputs": [],
   "source": [
    "# define the underlying swap object, coupon rate doesn't matter as it won't be used\n",
    "swp = ql.MakeVanillaSwap(swap_tenor, ql.Euribor6M(forecast_curve), 0.03, T0_period, \n",
    "                         settlementDays = 0,\n",
    "                         fixedLegCalendar = ql.TARGET(), \n",
    "                         fixedLegTenor = ql.Period('1Y'), \n",
    "                         discountingTermStructure = discount_curve,\n",
    "                         fixedLegDayCount = ql.Thirty360(1), \n",
    "                         floatingLegDayCount = ql.Actual360())\n",
    "S = swp.fairRate() # forward-swap rate, as seen from t=0"
   ]
  },
  {
   "cell_type": "code",
   "execution_count": 6,
   "id": "2bc17920-9c0a-403f-a421-216a4c0fb7fa",
   "metadata": {},
   "outputs": [],
   "source": [
    "G = lambda tau, kappa: (1-np.exp(-kappa*tau))/kappa if kappa>0 else tau\n",
    "yearfrac = lambda date1, date2: ql.Thirty360(0).yearFraction(date1,date2)\n",
    "\n",
    "annuity = sum([yearfrac(swp.fixedSchedule()[idx-1],date)*discount_curve.discount(date) for idx, date in enumerate(swp.fixedSchedule()) if idx >0])\n",
    "gamma   = sum([yearfrac(swp.fixedSchedule()[idx-1],date)*discount_curve.discount(date)*G(yearfrac(T0,date), kappa) \n",
    "               for idx, date in enumerate(swp.fixedSchedule()) if idx >0])/annuity\n",
    "\n",
    "a = discount_curve.discount(Tp)*(gamma - G(yearfrac(T0,Tp), kappa))/(discount_curve.discount(TN)*G(yearfrac(T0,TN), kappa) + annuity*S*gamma)\n",
    "var      = (S+shift)**2 * (np.exp(sigma**2* yearfrac(today,T0)) - 1) # var = (sigma**2 * yearfrac(today,T0)) <- this would be valid for a normal model\n",
    "cms_rate = S + annuity/discount_curve.discount(Tp) * a * var"
   ]
  },
  {
   "cell_type": "code",
   "execution_count": 7,
   "id": "24e7c622-c9c5-42d4-8fe4-6525d0b235b8",
   "metadata": {},
   "outputs": [
    {
     "name": "stdout",
     "output_type": "stream",
     "text": [
      "CMS rate R(0)=0.03589295079314921, which includes 0.005070929951134999 convexity adjustment\n"
     ]
    }
   ],
   "source": [
    "print(f'CMS rate R(0)={cms_rate}, which includes {cms_rate - S} convexity adjustment')"
   ]
  }
 ],
 "metadata": {
  "kernelspec": {
   "display_name": "Python 3 (ipykernel)",
   "language": "python",
   "name": "python3"
  },
  "language_info": {
   "codemirror_mode": {
    "name": "ipython",
    "version": 3
   },
   "file_extension": ".py",
   "mimetype": "text/x-python",
   "name": "python",
   "nbconvert_exporter": "python",
   "pygments_lexer": "ipython3",
   "version": "3.9.13"
  }
 },
 "nbformat": 4,
 "nbformat_minor": 5
}
