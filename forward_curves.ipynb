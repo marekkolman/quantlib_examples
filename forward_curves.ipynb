{
 "cells": [
  {
   "cell_type": "markdown",
   "metadata": {},
   "source": [
    "# Forward Curves in QuantLib\n",
    "\n",
    "For forward curves there are two main objects: `FlatForward` and `ForwardCurve`.\n",
    "\n",
    "`FlatForward` is just simply a flat forward (which also means flat spot) curve, taking a single `ql.QuoteHandle(ql.SimpleQuote(rate))` on the input and a single day as of which this flat curve starts. \n",
    "\n",
    "(**Note**: Alternatively, we don't provide the starting date but we use `ql.Settings.instance().evaluationDate = ql.Date(.,.,.)`)\n",
    "\n",
    "`ForwardCurve` is a more general object taking a set of observed forward rates. It does **not** use `ql.Settings.instance().evaluationDate` but instead it uses the first date as the starting date."
   ]
  },
  {
   "cell_type": "code",
   "execution_count": 13,
   "metadata": {},
   "outputs": [],
   "source": [
    "import QuantLib as ql\n",
    "import matplotlib.pyplot as plt\n",
    "import pandas as pd\n",
    "import numpy as np\n",
    "\n",
    "%config InlineBackend.figure_format='retina'\n",
    "\n",
    "# conversion of python date to QuantLib date\n",
    "def dt_to_ql_Date(dt): return ql.Date(dt.day, dt.month, dt.year)"
   ]
  },
  {
   "cell_type": "markdown",
   "metadata": {},
   "source": [
    "# `FlatForward`\n",
    "This object represets a flat curve.\n",
    "\n",
    "Two possible formulations are available: i) via explicit start date, or ii) via `today`.\n",
    "\n",
    "**Note**: It is assumed that the input fwd rate is under _continuous componding_, unless stated otherwise in the constructor."
   ]
  },
  {
   "cell_type": "code",
   "execution_count": 9,
   "metadata": {},
   "outputs": [
    {
     "name": "stdout",
     "output_type": "stream",
     "text": [
      "0.050000000000129566\n"
     ]
    },
    {
     "data": {
      "text/plain": [
       "0.04999999999999999"
      ]
     },
     "execution_count": 9,
     "metadata": {},
     "output_type": "execute_result"
    }
   ],
   "source": [
    "\n",
    "# option I): explicit start date of the fwd curve\n",
    "print(ql.FlatForward(ql.Date(15,6,2020), ql.QuoteHandle(ql.SimpleQuote(0.05)), ql.Actual360()).zeroRate(ql.Date(15,6,2020), ql.Actual360(), ql.Continuous).rate())\n",
    "\n",
    "\n",
    "# option II): via setting today date\n",
    "ql.Settings.instance().evaluationDate = ql.Date(1, 1, 2022)\n",
    "ql.FlatForward(0, ql.TARGET(), ql.QuoteHandle(ql.SimpleQuote(0.05)), ql.Actual360()).zeroRate(1.5, ql.Continuous).rate()"
   ]
  },
  {
   "cell_type": "markdown",
   "metadata": {},
   "source": [
    "# `ForwardCurve`\n",
    "Term structure based on flat interpolation of forward rates.\n",
    "\n",
    "Below example shows one particular use based on http://mikejuniperhill.blogspot.com/2019/10/quantlib-python-note-on-forwardcurve.html\n",
    "\n",
    "**Note 1** the input fwd rates must be passed as under continuous compounding.\n",
    "\n",
    "**Note 2** the first rate $f(t_0)$ is the starting rate of the curve, it has no role but it must be defined and the date $t_0$ defines the starting date of the curve.\n",
    "\n",
    "**Note 3** the input fwd rates are passed as vector $f(t_0), f(t_1), f(t_2),...$ and it is understood that $f(t_1)$ is instantaneous forward instantaneous rate for $0<t\\le t_1$, $f(t_2)$ is instantaneous forward rate for time between $t_1$ and $t_2$, and so on. "
   ]
  },
  {
   "cell_type": "code",
   "execution_count": 10,
   "metadata": {},
   "outputs": [
    {
     "data": {
      "text/html": [
       "<div>\n",
       "<style scoped>\n",
       "    .dataframe tbody tr th:only-of-type {\n",
       "        vertical-align: middle;\n",
       "    }\n",
       "\n",
       "    .dataframe tbody tr th {\n",
       "        vertical-align: top;\n",
       "    }\n",
       "\n",
       "    .dataframe thead th {\n",
       "        text-align: right;\n",
       "    }\n",
       "</style>\n",
       "<table border=\"1\" class=\"dataframe\">\n",
       "  <thead>\n",
       "    <tr style=\"text-align: right;\">\n",
       "      <th></th>\n",
       "      <th>date</th>\n",
       "      <th>cash_rates</th>\n",
       "      <th>3M_futures</th>\n",
       "      <th>period</th>\n",
       "      <th>df</th>\n",
       "      <th>fwd_simple</th>\n",
       "      <th>fwd_cont</th>\n",
       "    </tr>\n",
       "  </thead>\n",
       "  <tbody>\n",
       "    <tr>\n",
       "      <th>0</th>\n",
       "      <td>2019-11-01</td>\n",
       "      <td>NaN</td>\n",
       "      <td>NaN</td>\n",
       "      <td>NaN</td>\n",
       "      <td>1.000000</td>\n",
       "      <td>NaN</td>\n",
       "      <td>NaN</td>\n",
       "    </tr>\n",
       "    <tr>\n",
       "      <th>1</th>\n",
       "      <td>2020-02-01</td>\n",
       "      <td>0.03145</td>\n",
       "      <td>NaN</td>\n",
       "      <td>0.255556</td>\n",
       "      <td>0.992027</td>\n",
       "      <td>0.031450</td>\n",
       "      <td>0.031324</td>\n",
       "    </tr>\n",
       "    <tr>\n",
       "      <th>2</th>\n",
       "      <td>2020-05-01</td>\n",
       "      <td>NaN</td>\n",
       "      <td>0.027837</td>\n",
       "      <td>0.250000</td>\n",
       "      <td>0.985171</td>\n",
       "      <td>0.027837</td>\n",
       "      <td>0.027741</td>\n",
       "    </tr>\n",
       "    <tr>\n",
       "      <th>3</th>\n",
       "      <td>2020-08-01</td>\n",
       "      <td>NaN</td>\n",
       "      <td>0.025308</td>\n",
       "      <td>0.255556</td>\n",
       "      <td>0.978840</td>\n",
       "      <td>0.025308</td>\n",
       "      <td>0.025226</td>\n",
       "    </tr>\n",
       "    <tr>\n",
       "      <th>4</th>\n",
       "      <td>2020-11-01</td>\n",
       "      <td>NaN</td>\n",
       "      <td>0.024937</td>\n",
       "      <td>0.255556</td>\n",
       "      <td>0.972642</td>\n",
       "      <td>0.024937</td>\n",
       "      <td>0.024858</td>\n",
       "    </tr>\n",
       "  </tbody>\n",
       "</table>\n",
       "</div>"
      ],
      "text/plain": [
       "        date  cash_rates  3M_futures    period        df  fwd_simple  fwd_cont\n",
       "0 2019-11-01         NaN         NaN       NaN  1.000000         NaN       NaN\n",
       "1 2020-02-01     0.03145         NaN  0.255556  0.992027    0.031450  0.031324\n",
       "2 2020-05-01         NaN    0.027837  0.250000  0.985171    0.027837  0.027741\n",
       "3 2020-08-01         NaN    0.025308  0.255556  0.978840    0.025308  0.025226\n",
       "4 2020-11-01         NaN    0.024937  0.255556  0.972642    0.024937  0.024858"
      ]
     },
     "execution_count": 10,
     "metadata": {},
     "output_type": "execute_result"
    }
   ],
   "source": [
    "data = pd.read_excel('data/fwd_curves.xlsx', skiprows = 6)\n",
    "data\n",
    "# NOTE that 'date' has the meaning of T_end in F(0, T_start,T_end)"
   ]
  },
  {
   "cell_type": "code",
   "execution_count": 11,
   "metadata": {},
   "outputs": [
    {
     "name": "stdout",
     "output_type": "stream",
     "text": [
      "[Date(1,11,2019), Date(1,2,2020), Date(1,5,2020), Date(1,8,2020), Date(1,11,2020)]\n",
      "[0.03132428781584057, 0.03132428781584057, 0.0277409448701242, 0.025226204448246314, 0.02485823720150031]\n"
     ]
    }
   ],
   "source": [
    "end_dates = data['date'].apply(dt_to_ql_Date).to_list()\n",
    "fwd_rates = data['fwd_cont'].to_list() # use the continuously compounded forward rates\n",
    "\n",
    "fwd_rates[0] = fwd_rates[1]\n",
    "\n",
    "print(end_dates)\n",
    "print(fwd_rates)\n",
    "\n",
    "fwd_curve = ql.ForwardCurve(end_dates, fwd_rates, ql.Actual360(), ql.NullCalendar())"
   ]
  },
  {
   "cell_type": "code",
   "execution_count": 12,
   "metadata": {},
   "outputs": [
    {
     "data": {
      "image/png": "[encoded data removed]",
      "text/plain": [
       "<Figure size 432x288 with 1 Axes>"
      ]
     },
     "metadata": {
      "image/png": {
       "height": 263,
       "width": 391
      },
      "needs_background": "light"
     },
     "output_type": "display_data"
    }
   ],
   "source": [
    "sample_dates = [ql.Date(date) for date in range(end_dates[0].serialNumber(), end_dates[-1].serialNumber())]\n",
    "sample_fwds  = [fwd_curve.forwardRate(date, date, ql.Actual360(), ql.Continuous).rate() for date in sample_dates]\n",
    "\n",
    "\n",
    "plt.title('Instantaneous foward rates')\n",
    "plt.plot([date.to_date() for date in sample_dates], sample_fwds);"
   ]
  }
 ],
 "metadata": {
  "kernelspec": {
   "display_name": "Python 3 (ipykernel)",
   "language": "python",
   "name": "python3"
  },
  "language_info": {
   "codemirror_mode": {
    "name": "ipython",
    "version": 3
   },
   "file_extension": ".py",
   "mimetype": "text/x-python",
   "name": "python",
   "nbconvert_exporter": "python",
   "pygments_lexer": "ipython3",
   "version": "3.9.12"
  },
  "vscode": {
   "interpreter": {
    "hash": "766ea9d202a4d33304437b5e015b7771b7ff064474df947f775c59bb8ed0ffef"
   }
  }
 },
 "nbformat": 4,
 "nbformat_minor": 4
}
