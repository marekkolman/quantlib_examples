{
 "cells": [
  {
   "cell_type": "code",
   "execution_count": 2,
   "id": "82338d0a-db3b-4746-94fe-7751511d2647",
   "metadata": {},
   "outputs": [],
   "source": [
    "import pandas as pd\n",
    "import numpy as np\n",
    "from scipy.stats import norm\n",
    "import QuantLib as ql\n",
    "from scipy.integrate import trapezoid"
   ]
  },
  {
   "cell_type": "markdown",
   "id": "ea5c0e85-d5b5-47cb-aee5-2c755dd02ce7",
   "metadata": {},
   "source": [
    "# Valuation of CMS options - description\n",
    "This notebook shows implementation of CMS options valuation using the standard market model.\n",
    "\n",
    "The pricing follows (Brigoa and Mercurio, 2006), Section 13.16.2.\n",
    "\n",
    "The market model assumes that the inputs are:\n",
    "- IR curves\n",
    "- correlation of swap rates underlying the CMS option trade\n",
    "- volatilities of swap rates underlying the CMS option trade\n",
    "\n",
    "The option has payoff\n",
    "\\begin{equation}\n",
    "V({T_\\alpha }) = \\max \\left[ {{S_{\\alpha ,\\gamma }}({T_\\alpha }) - {S_{\\alpha ,\\beta }}({T_\\alpha }) - K,0} \\right] \\text{where } \\gamma > \\beta.\n",
    "\\end{equation}\n",
    "\n",
    "It is convenient to use ${\\mathbb{Q}_{{T_\\alpha }}}$ measure as it allows us to express the value as\n",
    "\\begin{equation}\n",
    "V(0) = B(0,{T_\\alpha }){\\mathbb{E}^{{\\mathbb{Q}_{{T_\\alpha }}}}}\\left[ {\\max \\left[ {{S_{\\alpha ,\\gamma }}({T_\\alpha }) - {S_{\\alpha ,\\beta }}({T_\\alpha }) - K,0} \\right]} \\right].\n",
    "\\end{equation}\n",
    "However, because $S_{\\alpha, x}, x \\in \\{\\beta, \\gamma\\}$ is _not_ a numeraire under ${\\mathbb{Q}_{{T_\\alpha }}}$ measure, we need to obtain drifts for both ${S_{\\alpha ,\\gamma }},{S_{\\alpha ,\\beta }}$ that these processes have under ${\\mathbb{Q}_{{T_\\alpha }}}$.\n",
    "\n",
    "Since\n",
    "\\begin{equation}\n",
    "{R_{{\\rm{CMS}}}}(0) = {\\mathbb{E}^{{\\mathbb{Q}_{{T_\\alpha }}}}}\\left[ {{S_{\\alpha ,x}}({T_\\alpha })} \\right] = {S_{a,x}}(0){e^{\\mu {T_\\alpha }}}\n",
    "\\end{equation}\n",
    "we can back out the drift $\\mu$ if we know the CMS rate $R_{\\text{CMS}}$ (which is $S_{\\alpha, x}(0)+\\text{convexity adjustment}$).\n",
    "We thus need to calucate ${\\mathbb{E}^{{\\mathbb{Q}_{{T_\\alpha }}}}}\\left[ {{S_{\\alpha ,x}}({T_\\alpha })} \\right]$ as suggested by (Brigo and Mercurio, 2006) and use approximating formula (13.16) of the book.\n",
    "\n",
    "TODO: \n",
    "- add details about formula for ${\\mathbb{E}^{{\\mathbb{Q}_{{T_\\alpha }}}}}\\left[ {{S_{\\alpha ,x}}({T_\\alpha })} \\right]$, \n",
    "- add final formula for $V(0)$"
   ]
  },
  {
   "cell_type": "code",
   "execution_count": 3,
   "id": "46114ac3-0170-4f6e-a195-063bab9528b8",
   "metadata": {},
   "outputs": [],
   "source": [
    "today = ql.Date(20, 10, 2022)\n",
    "ql.Settings.instance().evaluationDate = today"
   ]
  },
  {
   "cell_type": "code",
   "execution_count": 4,
   "id": "7b1f9565-be11-433f-8b44-4858b645eb90",
   "metadata": {},
   "outputs": [],
   "source": [
    "curve = ql.YieldTermStructureHandle(ql.FlatForward(0, ql.NullCalendar(), 0.05, ql.SimpleDayCounter()))"
   ]
  },
  {
   "cell_type": "code",
   "execution_count": 5,
   "id": "4e176ca3-9ff1-4ca9-8347-9a3090b8b40e",
   "metadata": {},
   "outputs": [],
   "source": [
    "index = ql.Euribor6M(curve)\n",
    "swap1 = ql.MakeVanillaSwap(ql.Period('5Y'), index, ql.nullDouble(), ql.Period('1Y'), fixedLegTenor = ql.Period('6M'))\n",
    "swap2 = ql.MakeVanillaSwap(ql.Period('30Y'), index, ql.nullDouble(), ql.Period('1Y'), fixedLegTenor = ql.Period('6M'))"
   ]
  },
  {
   "cell_type": "code",
   "execution_count": 6,
   "id": "90ab1ae4-7aff-4dfb-a91a-031df91859b0",
   "metadata": {},
   "outputs": [],
   "source": [
    "psi = lambda y, curve, day_counter, schedule: sum(day_counter.yearFraction(schedule[i-1], di)/(1+y)**day_counter.yearFraction(schedule[0], di) for i, di in enumerate(schedule[1:], 1))\n",
    "\n",
    "def get_drift(swap, curve, sigma, h = 0.0001):\n",
    "    '''\n",
    "        Drift is the drift of swap rate under T_alpha forward measure\n",
    "        The drift can be extracted from E^T[S(T)] which requires only knowing swap rate volatility\n",
    "        \n",
    "        Below equation (13.16) is implemented.\n",
    "    '''\n",
    "    schedule = list(swap.fixedSchedule())\n",
    "    day_counter = swap.fixedDayCount()\n",
    "    \n",
    "    S0 = swap.fairRate()\n",
    "    \n",
    "    h = 0.0001\n",
    "    psi_plus  = psi(S0+h, curve, day_counter, schedule)\n",
    "    psi_minus = psi(S0-h, curve, day_counter, schedule)\n",
    "    psi_zero  = psi(S0, curve, day_counter, schedule)\n",
    "\n",
    "    psi_prime  = (psi_plus - psi_minus)/(2*h)\n",
    "    psi_second = (psi_plus - 2*psi_zero + psi_minus)/h**2\n",
    "\n",
    "    Talpha = day_counter.yearFraction(today,schedule[0])\n",
    "    CMS_rate = S0 - 0.5 * S0**2 *sigma**2 * Talpha * psi_second / psi_prime # implementation of (13.16)\n",
    "    drift = 1/Talpha * np.log(CMS_rate/S0)\n",
    "    \n",
    "    #print(f'S(0) = {S0}, CMS_rate = {CMS_rate}, drift = {drift}')\n",
    "    return drift\n",
    "\n",
    "\n",
    "def get_fv(swap1, swap2, curve, v, K, sigma1, sigma2, rho):\n",
    "    day_counter = swap1.fixedDayCount()\n",
    "\n",
    "    S1 = swap1.fairRate()\n",
    "    S2 = swap2.fairRate()\n",
    "    T = day_counter.yearFraction(today,swap1.fixedSchedule()[0])\n",
    "\n",
    "    h = lambda K, S, mu, sigma, T, v: K+S*np.exp((mu - 0.5*sigma**2)*T + sigma*np.sqrt(T)*v)\n",
    "    \n",
    "    mu1 = get_drift(swap1, curve, sigma1, h = 0.0001)\n",
    "    mu2 = get_drift(swap2, curve, sigma2, h = 0.0001)\n",
    "    \n",
    "    hv = h(K, S1, mu1, sigma1, T, v)\n",
    "    part1 = S2*np.exp(mu2*T - 0.5*rho**2 * sigma2 **2 *T + rho * sigma2*np.sqrt(T)*v)\n",
    "    part2 = norm.cdf( (np.log(S2/hv) + (mu2 + (0.5-rho**2)*sigma2**2 )*T + rho*sigma2*np.sqrt(T)*v)/(sigma2*np.sqrt(T)*np.sqrt(1-rho**2))  )\n",
    "    part3 = hv*norm.cdf( (np.log(S2/hv) + (mu2 - 0.5*sigma2**2)*T + rho*sigma2*np.sqrt(T)*v)/(sigma2*np.sqrt(T)*np.sqrt(1-rho**2)) )\n",
    "\n",
    "    return part1*part2 - part3"
   ]
  },
  {
   "cell_type": "code",
   "execution_count": 7,
   "id": "75582806-177c-45f0-a12e-2554a82e7e35",
   "metadata": {},
   "outputs": [],
   "source": [
    "v_grid = np.linspace(-8, 8, 400)\n",
    "integrand = [1/np.sqrt(2*np.pi) * np.exp(-0.5*v**2) * get_fv(swap1, swap2, curve, v, K = 0.01, sigma1 = 0.2, sigma2 = 0.2, rho = -0.9) for v in v_grid]"
   ]
  },
  {
   "cell_type": "code",
   "execution_count": 8,
   "id": "09f52484-84b9-4a44-b676-948d146bc664",
   "metadata": {},
   "outputs": [
    {
     "data": {
      "text/plain": [
       "0.004167010434262846"
      ]
     },
     "execution_count": 8,
     "metadata": {},
     "output_type": "execute_result"
    }
   ],
   "source": [
    "undiscounted_payoff = trapezoid(integrand, x=v_grid)\n",
    "undiscounted_payoff"
   ]
  },
  {
   "cell_type": "code",
   "execution_count": 9,
   "id": "8196baa6-e1d4-42db-8073-ac8017466b59",
   "metadata": {},
   "outputs": [
    {
     "data": {
      "text/plain": [
       "0.003961581447222136"
      ]
     },
     "execution_count": 9,
     "metadata": {},
     "output_type": "execute_result"
    }
   ],
   "source": [
    "npv = curve.discount(swap1.fixedSchedule()[0])*undiscounted_payoff\n",
    "npv"
   ]
  }
 ],
 "metadata": {
  "kernelspec": {
   "display_name": "Python 3 (ipykernel)",
   "language": "python",
   "name": "python3"
  },
  "language_info": {
   "codemirror_mode": {
    "name": "ipython",
    "version": 3
   },
   "file_extension": ".py",
   "mimetype": "text/x-python",
   "name": "python",
   "nbconvert_exporter": "python",
   "pygments_lexer": "ipython3",
   "version": "3.9.13"
  }
 },
 "nbformat": 4,
 "nbformat_minor": 5
}
