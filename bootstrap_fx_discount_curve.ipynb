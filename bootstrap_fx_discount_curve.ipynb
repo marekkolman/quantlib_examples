{
 "cells": [
  {
   "cell_type": "code",
   "execution_count": 1,
   "metadata": {},
   "outputs": [],
   "source": [
    "import pandas as pd\n",
    "import QuantLib as ql\n",
    "import matplotlib.pyplot as plt\n",
    "import numpy as np\n",
    "\n",
    "%config InlineBackend.figure_format='retina'"
   ]
  },
  {
   "cell_type": "markdown",
   "metadata": {},
   "source": [
    "# Description\n",
    "This notebook demonstrates extraction of FX-adjusted discount curve from FX forwards and xccy quotes using `QuantLib`.\n",
    "\n",
    "In this particular example, we will be building USD-collateralized-in-EUR curve (henceforth referred to as _modified USD curve_), given that we know:\n",
    "- EUR discounting curve (based on €STR OIS rates),\n",
    "- USD discounting curve (based on SOFR OIS rates),\n",
    "- FX spot EURUSD,\n",
    "- set of EURUSD FX forward quotes,\n",
    "- set of xccy swaps which exchange (€STR + EUR spread) against SOFR.\n",
    "\n",
    "The bootstrapping idea is that we find the USD discount curve that best replicates:\n",
    "- FX forwards, taking fwd quotes, spot FX and EUR curve as given,\n",
    "- xccy quotes (renders xccy swaps fair), taking EUR-leg spreads, keeping _forecasting_ EUR and USD curves, and EUR discounting as given. \n",
    "\n",
    "To keep things simple, we assume curves are flat. The FX fwd and xccy have been created ahead knowing a true modified USD curve.\n",
    "\n",
    "Technically, the way the modified USD curve is built in `QuantLib`, is by first creating 'helpers' for both FX forwards (`ql.FxSwapRateHelper`) and xccy swaps (`CrossCurrencyBasisSwapRateHelper`) based on the market quotes, leaving the only degree of freedom in the modified USD discounting curve. Then we pass these helpers to `ql.Piecewise` to infer the modified discounting curve."
   ]
  },
  {
   "cell_type": "markdown",
   "metadata": {},
   "source": [
    "# Load inputs"
   ]
  },
  {
   "cell_type": "code",
   "execution_count": 2,
   "metadata": {},
   "outputs": [
    {
     "name": "stdout",
     "output_type": "stream",
     "text": [
      "Fwd quotes:\n"
     ]
    },
    {
     "data": {
      "text/html": [
       "<div>\n",
       "<style scoped>\n",
       "    .dataframe tbody tr th:only-of-type {\n",
       "        vertical-align: middle;\n",
       "    }\n",
       "\n",
       "    .dataframe tbody tr th {\n",
       "        vertical-align: top;\n",
       "    }\n",
       "\n",
       "    .dataframe thead th {\n",
       "        text-align: right;\n",
       "    }\n",
       "</style>\n",
       "<table border=\"1\" class=\"dataframe\">\n",
       "  <thead>\n",
       "    <tr style=\"text-align: right;\">\n",
       "      <th></th>\n",
       "      <th>expiry</th>\n",
       "      <th>fx_fwd</th>\n",
       "    </tr>\n",
       "  </thead>\n",
       "  <tbody>\n",
       "    <tr>\n",
       "      <th>0</th>\n",
       "      <td>1W</td>\n",
       "      <td>1.200187</td>\n",
       "    </tr>\n",
       "    <tr>\n",
       "      <th>1</th>\n",
       "      <td>1M</td>\n",
       "      <td>1.200800</td>\n",
       "    </tr>\n",
       "    <tr>\n",
       "      <th>2</th>\n",
       "      <td>3M</td>\n",
       "      <td>1.202402</td>\n",
       "    </tr>\n",
       "    <tr>\n",
       "      <th>3</th>\n",
       "      <td>6M</td>\n",
       "      <td>1.204810</td>\n",
       "    </tr>\n",
       "    <tr>\n",
       "      <th>4</th>\n",
       "      <td>9M</td>\n",
       "      <td>1.207222</td>\n",
       "    </tr>\n",
       "    <tr>\n",
       "      <th>5</th>\n",
       "      <td>12M</td>\n",
       "      <td>1.209639</td>\n",
       "    </tr>\n",
       "  </tbody>\n",
       "</table>\n",
       "</div>"
      ],
      "text/plain": [
       "  expiry    fx_fwd\n",
       "0     1W  1.200187\n",
       "1     1M  1.200800\n",
       "2     3M  1.202402\n",
       "3     6M  1.204810\n",
       "4     9M  1.207222\n",
       "5    12M  1.209639"
      ]
     },
     "metadata": {},
     "output_type": "display_data"
    },
    {
     "name": "stdout",
     "output_type": "stream",
     "text": [
      "xccy quotes:\n"
     ]
    },
    {
     "data": {
      "text/html": [
       "<div>\n",
       "<style scoped>\n",
       "    .dataframe tbody tr th:only-of-type {\n",
       "        vertical-align: middle;\n",
       "    }\n",
       "\n",
       "    .dataframe tbody tr th {\n",
       "        vertical-align: top;\n",
       "    }\n",
       "\n",
       "    .dataframe thead th {\n",
       "        text-align: right;\n",
       "    }\n",
       "</style>\n",
       "<table border=\"1\" class=\"dataframe\">\n",
       "  <thead>\n",
       "    <tr style=\"text-align: right;\">\n",
       "      <th></th>\n",
       "      <th>expiry</th>\n",
       "      <th>EUR_spread</th>\n",
       "    </tr>\n",
       "  </thead>\n",
       "  <tbody>\n",
       "    <tr>\n",
       "      <th>0</th>\n",
       "      <td>2Y</td>\n",
       "      <td>-0.003014</td>\n",
       "    </tr>\n",
       "    <tr>\n",
       "      <th>1</th>\n",
       "      <td>5Y</td>\n",
       "      <td>-0.002981</td>\n",
       "    </tr>\n",
       "    <tr>\n",
       "      <th>2</th>\n",
       "      <td>10Y</td>\n",
       "      <td>-0.002926</td>\n",
       "    </tr>\n",
       "    <tr>\n",
       "      <th>3</th>\n",
       "      <td>15Y</td>\n",
       "      <td>-0.002871</td>\n",
       "    </tr>\n",
       "    <tr>\n",
       "      <th>4</th>\n",
       "      <td>20Y</td>\n",
       "      <td>-0.002819</td>\n",
       "    </tr>\n",
       "    <tr>\n",
       "      <th>5</th>\n",
       "      <td>30Y</td>\n",
       "      <td>-0.002721</td>\n",
       "    </tr>\n",
       "  </tbody>\n",
       "</table>\n",
       "</div>"
      ],
      "text/plain": [
       "  expiry  EUR_spread\n",
       "0     2Y   -0.003014\n",
       "1     5Y   -0.002981\n",
       "2    10Y   -0.002926\n",
       "3    15Y   -0.002871\n",
       "4    20Y   -0.002819\n",
       "5    30Y   -0.002721"
      ]
     },
     "metadata": {},
     "output_type": "display_data"
    }
   ],
   "source": [
    "date = ql.Date(18,8,2022)\n",
    "ql.Settings.instance().evaluationDate = date\n",
    "\n",
    "eur_rate = 0.01   # flat zero continuously compounded rate obtained from €STR OIS curve\n",
    "usd_rate = 0.015  # flat zero continuously compounded rate obtained from SOFR OIS curve\n",
    "spot_fx   = 1.2   # EURUSD (base currency = EUR)\n",
    "\n",
    "fwd_quotes = pd.DataFrame({'expiry': ['1W', '1M', '3M', '6M', '9M', '12M'],\n",
    "                           'fx_fwd': [1.200187, 1.2008, 1.202402, 1.20481, 1.207222, 1.209639]\n",
    "                           })\n",
    "\n",
    "xccy_quotes = pd.DataFrame({'expiry': ['2Y', '5Y', '10Y', '15Y', '20Y', '30Y'],\n",
    "                            'EUR_spread':[-0.003014,-0.002981,-0.002926,-0.002871,-0.002819,-0.002721]\n",
    "                            })\n",
    "\n",
    "print('Fwd quotes:')\n",
    "display(fwd_quotes)\n",
    "\n",
    "print('xccy quotes:')\n",
    "display(xccy_quotes)"
   ]
  },
  {
   "cell_type": "markdown",
   "metadata": {},
   "source": [
    "# Define €STR and SOFR flat curves"
   ]
  },
  {
   "cell_type": "code",
   "execution_count": 3,
   "metadata": {},
   "outputs": [],
   "source": [
    "eur_curve = ql.YieldTermStructureHandle(\n",
    "            ql.FlatForward(date, ql.QuoteHandle(ql.SimpleQuote(eur_rate)),ql.SimpleDayCounter()))\n",
    "usd_curve = ql.YieldTermStructureHandle(\n",
    "            ql.FlatForward(date, ql.QuoteHandle(ql.SimpleQuote(usd_rate)),ql.SimpleDayCounter()))"
   ]
  },
  {
   "cell_type": "markdown",
   "metadata": {},
   "source": [
    "# Build FX forwards helpers"
   ]
  },
  {
   "cell_type": "code",
   "execution_count": 4,
   "metadata": {},
   "outputs": [],
   "source": [
    "helpers_fwd = []\n",
    "for tenor, fwd in fwd_quotes[['expiry', 'fx_fwd']].values:\n",
    "    fwd_points = fwd - spot_fx\n",
    "    helper = ql.FxSwapRateHelper(ql.QuoteHandle(ql.SimpleQuote(fwd_points)), \n",
    "                                 ql.QuoteHandle(ql.SimpleQuote(spot_fx)), \n",
    "                                 ql.Period(tenor), 0, ql.NullCalendar(), \n",
    "                                 ql.Following, False, True, eur_curve)\n",
    "    helpers_fwd.append(helper)"
   ]
  },
  {
   "cell_type": "markdown",
   "metadata": {},
   "source": [
    "# Build xccy helpers"
   ]
  },
  {
   "cell_type": "code",
   "execution_count": 5,
   "metadata": {},
   "outputs": [],
   "source": [
    "baseCurrencyIndex  = ql.Estr(eur_curve) # for forecasting EUR-leg cash-flow\n",
    "quoteCurrencyIndex = ql.Sofr(usd_curve) # for forecasting USD-leg cash-flow\n",
    "\n",
    "helpers_xccy = []\n",
    "for tenor, eur_spread in xccy_quotes.values:\n",
    "    basis  = ql.QuoteHandle(ql.SimpleQuote(eur_spread))\n",
    "    helper = ql.CrossCurrencyBasisSwapRateHelper(basis, \n",
    "                                                 ql.Period(tenor), 0, \n",
    "                                                 ql.NullCalendar(), \n",
    "                                                 ql.ModifiedFollowing, True,\n",
    "                                                 baseCurrencyIndex, \n",
    "                                                 quoteCurrencyIndex, \n",
    "                                                 eur_curve, True, True)\n",
    "    helpers_xccy.append(helper)"
   ]
  },
  {
   "cell_type": "markdown",
   "metadata": {},
   "source": [
    "# Bootstrap modified USD curve from the helpers"
   ]
  },
  {
   "cell_type": "code",
   "execution_count": 6,
   "metadata": {},
   "outputs": [
    {
     "data": {
      "image/png": "[encoded data removed]",
      "text/plain": [
       "<Figure size 432x288 with 1 Axes>"
      ]
     },
     "metadata": {
      "image/png": {
       "height": 277,
       "width": 398
      },
      "needs_background": "light"
     },
     "output_type": "display_data"
    }
   ],
   "source": [
    "mod_usd_curve = ql.PiecewiseLogCubicDiscount(0,ql.NullCalendar(),\n",
    "                                            helpers_fwd + helpers_xccy,\n",
    "                                            ql.SimpleDayCounter())\n",
    "\n",
    "times = np.linspace(0.01, 30, 1000)\n",
    "mod_usd_rates = [mod_usd_curve.zeroRate(t, ql.Continuous).rate() for t in times]\n",
    "\n",
    "fig, ax = plt.subplots()\n",
    "ax.plot(times, mod_usd_rates)\n",
    "ax.set_ylim([0, 0.03]);\n",
    "ax.set_title('Modified USD curve');\n",
    "ax.set_xlabel('maturity (years)');\n",
    "ax.set_ylabel('rate');"
   ]
  }
 ],
 "metadata": {
  "kernelspec": {
   "display_name": "Python 3 (ipykernel)",
   "language": "python",
   "name": "python3"
  },
  "language_info": {
   "codemirror_mode": {
    "name": "ipython",
    "version": 3
   },
   "file_extension": ".py",
   "mimetype": "text/x-python",
   "name": "python",
   "nbconvert_exporter": "python",
   "pygments_lexer": "ipython3",
   "version": "3.9.12"
  },
  "vscode": {
   "interpreter": {
    "hash": "766ea9d202a4d33304437b5e015b7771b7ff064474df947f775c59bb8ed0ffef"
   }
  }
 },
 "nbformat": 4,
 "nbformat_minor": 4
}
