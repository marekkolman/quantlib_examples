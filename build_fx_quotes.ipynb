{
 "cells": [
  {
   "cell_type": "code",
   "execution_count": 1,
   "metadata": {},
   "outputs": [],
   "source": [
    "import pandas as pd\n",
    "import QuantLib as ql"
   ]
  },
  {
   "cell_type": "markdown",
   "metadata": {},
   "source": [
    "# Description\n",
    "This notebook builds EUR-collateralized FX forward and xccy quotes given that we know:\n",
    "- EUR discounting curve (based on €STR OIS rates),\n",
    "- USD discounting curve (based on SOFR OIS rates),\n",
    "- USD-collateralized-in-EUR curve (henceforth _modified USD curve_),\n",
    "- spot FX rate."
   ]
  },
  {
   "cell_type": "code",
   "execution_count": 2,
   "metadata": {},
   "outputs": [],
   "source": [
    "date = ql.Date(18,8,2022)\n",
    "ql.Settings.instance().evaluationDate = date\n",
    "\n",
    "eur_rate = 0.01\n",
    "usd_rate = 0.015\n",
    "usd_rate_mod = 0.018\n",
    "spot_fx = 1.2 # EURUSD (base currency = EUR)\n",
    "\n",
    "expiries_fwd  = ['1W','1M', '3M', '6M', '9M', '12M']\n",
    "maturities_xccy = ['2Y', '5Y', '10Y', '15Y', '20Y', '30Y']"
   ]
  },
  {
   "cell_type": "code",
   "execution_count": 3,
   "metadata": {},
   "outputs": [],
   "source": [
    "eur_curve     = ql.YieldTermStructureHandle(ql.FlatForward(date, ql.QuoteHandle(ql.SimpleQuote(eur_rate)),     ql.SimpleDayCounter()))\n",
    "usd_curve     = ql.YieldTermStructureHandle(ql.FlatForward(date, ql.QuoteHandle(ql.SimpleQuote(usd_rate)),     ql.SimpleDayCounter()))\n",
    "usd_curve_mod = ql.YieldTermStructureHandle(ql.FlatForward(date, ql.QuoteHandle(ql.SimpleQuote(usd_rate_mod)), ql.SimpleDayCounter()))"
   ]
  },
  {
   "cell_type": "markdown",
   "metadata": {},
   "source": [
    "# Build FX forward quotes"
   ]
  },
  {
   "cell_type": "code",
   "execution_count": 18,
   "metadata": {},
   "outputs": [
    {
     "data": {
      "text/html": [
       "<div>\n",
       "<style scoped>\n",
       "    .dataframe tbody tr th:only-of-type {\n",
       "        vertical-align: middle;\n",
       "    }\n",
       "\n",
       "    .dataframe tbody tr th {\n",
       "        vertical-align: top;\n",
       "    }\n",
       "\n",
       "    .dataframe thead th {\n",
       "        text-align: right;\n",
       "    }\n",
       "</style>\n",
       "<table border=\"1\" class=\"dataframe\">\n",
       "  <thead>\n",
       "    <tr style=\"text-align: right;\">\n",
       "      <th></th>\n",
       "      <th>expiry</th>\n",
       "      <th>fx_fwd</th>\n",
       "    </tr>\n",
       "  </thead>\n",
       "  <tbody>\n",
       "    <tr>\n",
       "      <th>0</th>\n",
       "      <td>1W</td>\n",
       "      <td>1.200187</td>\n",
       "    </tr>\n",
       "    <tr>\n",
       "      <th>1</th>\n",
       "      <td>1M</td>\n",
       "      <td>1.200800</td>\n",
       "    </tr>\n",
       "    <tr>\n",
       "      <th>2</th>\n",
       "      <td>3M</td>\n",
       "      <td>1.202402</td>\n",
       "    </tr>\n",
       "    <tr>\n",
       "      <th>3</th>\n",
       "      <td>6M</td>\n",
       "      <td>1.204810</td>\n",
       "    </tr>\n",
       "    <tr>\n",
       "      <th>4</th>\n",
       "      <td>9M</td>\n",
       "      <td>1.207222</td>\n",
       "    </tr>\n",
       "    <tr>\n",
       "      <th>5</th>\n",
       "      <td>12M</td>\n",
       "      <td>1.209639</td>\n",
       "    </tr>\n",
       "  </tbody>\n",
       "</table>\n",
       "</div>"
      ],
      "text/plain": [
       "  expiry    fx_fwd\n",
       "0     1W  1.200187\n",
       "1     1M  1.200800\n",
       "2     3M  1.202402\n",
       "3     6M  1.204810\n",
       "4     9M  1.207222\n",
       "5    12M  1.209639"
      ]
     },
     "execution_count": 18,
     "metadata": {},
     "output_type": "execute_result"
    }
   ],
   "source": [
    "# build FX forward quotes from EUR and mod USD rates\n",
    "# FWD_EURUSD = SPOT_EURUSD * dEUR/dmodUSD\n",
    "quotes_fx = []\n",
    "for expiry in expiries_fwd:\n",
    "    fwd_maturity = ql.NullCalendar().advance(date, ql.Period(expiry))\n",
    "    quotes_fx.append(spot_fx * eur_curve.discount(fwd_maturity)/usd_curve_mod.discount(fwd_maturity))\n",
    "\n",
    "quotes_fx = pd.DataFrame({'expiry': expiries_fwd, 'fx_fwd':quotes_fx})\n",
    "quotes_fx\n",
    "    \n"
   ]
  },
  {
   "cell_type": "markdown",
   "metadata": {},
   "source": [
    "# Build xccy quotes\n",
    "To build the xccy quotes from the curves, we create a helper `xccy_swap` object, into which we pass inputs.\n",
    "\n",
    "Then we search for such a fair spread on the EUR leg that renders (€ESTR + EUR spread) vs SOFR xccy fair, if we discount by €STR curve EUR cash flow and modified USD curve the USD cash-flow. "
   ]
  },
  {
   "cell_type": "code",
   "execution_count": 5,
   "metadata": {},
   "outputs": [],
   "source": [
    "class xccy_swap:\n",
    "\n",
    "    def __init__(self, pricing_date: ql.Date, eur_fcst_curve, usd_fcst_curve, tenor_years, spread_eur = None):\n",
    "\n",
    "        self.inputs = locals()\n",
    "        self.inputs.pop('self');\n",
    "\n",
    "        self.pricing_date = pricing_date\n",
    "        self.schedule    = ql.MakeSchedule(pricing_date, ql.NullCalendar().advance(pricing_date, ql.Period(tenor_years, ql.Years)), ql.Period('1Y'))\n",
    "\n",
    "        if spread_eur:\n",
    "            self.build_swap(pricing_date, spread_eur, eur_fcst_curve, usd_fcst_curve, tenor_years)\n",
    "\n",
    "        \n",
    "\n",
    "    def build_swap(self, pricing_date: ql.Date, spread_eur, eur_fcst_curve, usd_fcst_curve, tenor_years):\n",
    "        \n",
    "        eur_leg     = ql.OvernightLeg([1], self.schedule, ql.Eonia(eur_fcst_curve),ql.SimpleDayCounter(), ql.Following, [1], [spread_eur], True)\n",
    "        usd_leg     = ql.OvernightLeg([1], self.schedule, ql.Sofr(usd_fcst_curve), ql.SimpleDayCounter(), ql.Following, [1], [0], True)\n",
    "        self.eur_leg = eur_leg\n",
    "        self.usd_leg = usd_leg\n",
    "\n",
    "        self.eur_notional = ql.Leg([ql.SimpleCashFlow(1.0, max(self.schedule))])\n",
    "        self.usd_notional = ql.Leg([ql.SimpleCashFlow(1.0, max(self.schedule))])\n",
    "\n",
    "    def npv(self, eur_discount_curve, usd_discount_curve):\n",
    "        eur_npv = ql.CashFlows.npv(self.eur_leg, eur_discount_curve, True, self.pricing_date) + ql.CashFlows.npv(self.eur_notional, eur_discount_curve, True, self.pricing_date)\n",
    "        usd_npv = ql.CashFlows.npv(self.usd_leg, usd_discount_curve, True, self.pricing_date) + ql.CashFlows.npv(self.usd_notional, usd_discount_curve, True, self.pricing_date)\n",
    "\n",
    "        return eur_npv - usd_npv\n",
    "\n",
    "    def fair_spread(self, eur_discount_curve, usd_discount_curve):\n",
    "        from scipy.optimize import root_scalar\n",
    "        inputs = self.inputs\n",
    "        inputs.pop('spread_eur');\n",
    "\n",
    "        return root_scalar(lambda spread: xccy_swap(**inputs, spread_eur=spread).npv(eur_discount_curve, usd_discount_curve), x0 = -0.1 ,x1 = 0.1).root"
   ]
  },
  {
   "cell_type": "code",
   "execution_count": 19,
   "metadata": {},
   "outputs": [
    {
     "data": {
      "text/html": [
       "<div>\n",
       "<style scoped>\n",
       "    .dataframe tbody tr th:only-of-type {\n",
       "        vertical-align: middle;\n",
       "    }\n",
       "\n",
       "    .dataframe tbody tr th {\n",
       "        vertical-align: top;\n",
       "    }\n",
       "\n",
       "    .dataframe thead th {\n",
       "        text-align: right;\n",
       "    }\n",
       "</style>\n",
       "<table border=\"1\" class=\"dataframe\">\n",
       "  <thead>\n",
       "    <tr style=\"text-align: right;\">\n",
       "      <th></th>\n",
       "      <th>expiry</th>\n",
       "      <th>EUR_spread</th>\n",
       "    </tr>\n",
       "  </thead>\n",
       "  <tbody>\n",
       "    <tr>\n",
       "      <th>0</th>\n",
       "      <td>2Y</td>\n",
       "      <td>-0.003014</td>\n",
       "    </tr>\n",
       "    <tr>\n",
       "      <th>1</th>\n",
       "      <td>5Y</td>\n",
       "      <td>-0.002981</td>\n",
       "    </tr>\n",
       "    <tr>\n",
       "      <th>2</th>\n",
       "      <td>10Y</td>\n",
       "      <td>-0.002926</td>\n",
       "    </tr>\n",
       "    <tr>\n",
       "      <th>3</th>\n",
       "      <td>15Y</td>\n",
       "      <td>-0.002871</td>\n",
       "    </tr>\n",
       "    <tr>\n",
       "      <th>4</th>\n",
       "      <td>20Y</td>\n",
       "      <td>-0.002819</td>\n",
       "    </tr>\n",
       "    <tr>\n",
       "      <th>5</th>\n",
       "      <td>30Y</td>\n",
       "      <td>-0.002721</td>\n",
       "    </tr>\n",
       "  </tbody>\n",
       "</table>\n",
       "</div>"
      ],
      "text/plain": [
       "  expiry  EUR_spread\n",
       "0     2Y   -0.003014\n",
       "1     5Y   -0.002981\n",
       "2    10Y   -0.002926\n",
       "3    15Y   -0.002871\n",
       "4    20Y   -0.002819\n",
       "5    30Y   -0.002721"
      ]
     },
     "execution_count": 19,
     "metadata": {},
     "output_type": "execute_result"
    }
   ],
   "source": [
    "# iterate over all xccy maturities and find xccy spreads\n",
    "# the xccy exchange: €STR + EUR_spread vs SOFR\n",
    " \n",
    "xccy_spreads_eur = []\n",
    "for maturity in maturities_xccy:\n",
    "    tenor_years = ql.Period(maturity).length()\n",
    "    xccy_spreads_eur.append(xccy_swap(date, eur_curve, usd_curve, tenor_years).fair_spread(eur_curve, usd_curve_mod))\n",
    "\n",
    "xccy_spreads_eur = pd.DataFrame({'expiry': maturities_xccy, 'EUR_spread': xccy_spreads_eur})\n",
    "xccy_spreads_eur"
   ]
  }
 ],
 "metadata": {
  "kernelspec": {
   "display_name": "Python 3 (ipykernel)",
   "language": "python",
   "name": "python3"
  },
  "language_info": {
   "codemirror_mode": {
    "name": "ipython",
    "version": 3
   },
   "file_extension": ".py",
   "mimetype": "text/x-python",
   "name": "python",
   "nbconvert_exporter": "python",
   "pygments_lexer": "ipython3",
   "version": "3.9.12"
  },
  "vscode": {
   "interpreter": {
    "hash": "766ea9d202a4d33304437b5e015b7771b7ff064474df947f775c59bb8ed0ffef"
   }
  }
 },
 "nbformat": 4,
 "nbformat_minor": 4
}
